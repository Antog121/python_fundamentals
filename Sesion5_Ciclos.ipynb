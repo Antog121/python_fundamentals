{
 "cells": [
  {
   "cell_type": "markdown",
   "id": "1a564437",
   "metadata": {},
   "source": [
    "# Condicionales if"
   ]
  },
  {
   "cell_type": "code",
   "execution_count": 1,
   "id": "d159ee9d",
   "metadata": {},
   "outputs": [],
   "source": [
    "a=5"
   ]
  },
  {
   "cell_type": "code",
   "execution_count": 4,
   "id": "b8a8d76d",
   "metadata": {},
   "outputs": [
    {
     "ename": "IndentationError",
     "evalue": "expected an indented block (Temp/ipykernel_9980/413566387.py, line 1)",
     "output_type": "error",
     "traceback": [
      "\u001b[1;36m  File \u001b[1;32m\"C:\\Users\\p-aangel\\AppData\\Local\\Temp/ipykernel_9980/413566387.py\"\u001b[1;36m, line \u001b[1;32m1\u001b[0m\n\u001b[1;33m    if a ==3:\u001b[0m\n\u001b[1;37m             ^\u001b[0m\n\u001b[1;31mIndentationError\u001b[0m\u001b[1;31m:\u001b[0m expected an indented block\n"
     ]
    }
   ],
   "source": [
    "if a ==3:"
   ]
  },
  {
   "cell_type": "code",
   "execution_count": 6,
   "id": "7e6eb453",
   "metadata": {},
   "outputs": [],
   "source": [
    "if a == 3:\n",
    "    a*=3\n",
    "    print(a)"
   ]
  },
  {
   "cell_type": "code",
   "execution_count": 7,
   "id": "025b5026",
   "metadata": {},
   "outputs": [],
   "source": [
    "a=3"
   ]
  },
  {
   "cell_type": "code",
   "execution_count": 8,
   "id": "e39894aa",
   "metadata": {},
   "outputs": [
    {
     "name": "stdout",
     "output_type": "stream",
     "text": [
      "9\n"
     ]
    }
   ],
   "source": [
    "if a == 3:\n",
    "    a=a*3\n",
    "    print(a)"
   ]
  },
  {
   "cell_type": "code",
   "execution_count": 9,
   "id": "d4015950",
   "metadata": {},
   "outputs": [],
   "source": [
    "a=4"
   ]
  },
  {
   "cell_type": "code",
   "execution_count": 10,
   "id": "4304bb71",
   "metadata": {},
   "outputs": [
    {
     "data": {
      "text/plain": [
       "4"
      ]
     },
     "execution_count": 10,
     "metadata": {},
     "output_type": "execute_result"
    }
   ],
   "source": [
    "a"
   ]
  },
  {
   "cell_type": "code",
   "execution_count": 11,
   "id": "ad13a726",
   "metadata": {},
   "outputs": [],
   "source": [
    "b=5"
   ]
  },
  {
   "cell_type": "code",
   "execution_count": 12,
   "id": "88c04e56",
   "metadata": {},
   "outputs": [
    {
     "data": {
      "text/plain": [
       "5"
      ]
     },
     "execution_count": 12,
     "metadata": {},
     "output_type": "execute_result"
    }
   ],
   "source": [
    "b"
   ]
  },
  {
   "cell_type": "code",
   "execution_count": 13,
   "id": "9504a3b2",
   "metadata": {},
   "outputs": [
    {
     "name": "stdout",
     "output_type": "stream",
     "text": [
      " b es mayor\n"
     ]
    }
   ],
   "source": [
    "\n",
    "    print(\" b es mayor\")"
   ]
  },
  {
   "cell_type": "markdown",
   "id": "9c53d76a",
   "metadata": {},
   "source": [
    "# Determinar si eres mayor de edad"
   ]
  },
  {
   "cell_type": "code",
   "execution_count": 2,
   "id": "8616d5cb",
   "metadata": {},
   "outputs": [
    {
     "name": "stdout",
     "output_type": "stream",
     "text": [
      "Ingresa tu edad18\n",
      "eres mayor de edad\n"
     ]
    }
   ],
   "source": [
    "edad= int(input(\"Ingresa tu edad\"))\n",
    "if edad >=18:\n",
    "    print(\"eres mayor de edad\")\n",
    "else:\n",
    "    print(\"eres menor de edad\")"
   ]
  },
  {
   "cell_type": "markdown",
   "id": "18b9399e",
   "metadata": {},
   "source": [
    "# ingresa dos números y determina el menor"
   ]
  },
  {
   "cell_type": "code",
   "execution_count": 6,
   "id": "7eb09543",
   "metadata": {},
   "outputs": [
    {
     "name": "stdout",
     "output_type": "stream",
     "text": [
      "dime un número8\n",
      "dime otro número5\n",
      "num2 es menor\n"
     ]
    }
   ],
   "source": [
    "num1=int(input(\"dime un número\"))\n",
    "num2=int(input(\"dime otro número\"))\n",
    "if num1<num2:\n",
    "    print(\"num1 es menor\")\n",
    "elif num1==num2:\n",
    "        print(\"son iguales\")\n",
    "else:\n",
    "    print(\"num2 es menor\")\n",
    "    "
   ]
  },
  {
   "cell_type": "code",
   "execution_count": null,
   "id": "240dd76d",
   "metadata": {},
   "outputs": [],
   "source": []
  },
  {
   "cell_type": "code",
   "execution_count": null,
   "id": "611dd63b",
   "metadata": {},
   "outputs": [],
   "source": []
  }
 ],
 "metadata": {
  "kernelspec": {
   "display_name": "Python 3 (ipykernel)",
   "language": "python",
   "name": "python3"
  },
  "language_info": {
   "codemirror_mode": {
    "name": "ipython",
    "version": 3
   },
   "file_extension": ".py",
   "mimetype": "text/x-python",
   "name": "python",
   "nbconvert_exporter": "python",
   "pygments_lexer": "ipython3",
   "version": "3.9.7"
  }
 },
 "nbformat": 4,
 "nbformat_minor": 5
}
